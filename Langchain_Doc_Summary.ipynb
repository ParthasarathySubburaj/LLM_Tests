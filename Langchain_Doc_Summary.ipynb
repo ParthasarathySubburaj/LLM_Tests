{
  "nbformat": 4,
  "nbformat_minor": 0,
  "metadata": {
    "colab": {
      "provenance": [],
      "toc_visible": true,
      "authorship_tag": "ABX9TyN7gVrBd72CeN3V91ADe6vb",
      "include_colab_link": true
    },
    "kernelspec": {
      "name": "python3",
      "display_name": "Python 3"
    },
    "language_info": {
      "name": "python"
    }
  },
  "cells": [
    {
      "cell_type": "markdown",
      "metadata": {
        "id": "view-in-github",
        "colab_type": "text"
      },
      "source": [
        "<a href=\"https://colab.research.google.com/github/ParthasarathySubburaj/LLM_Tests/blob/main/Langchain_Doc_Summary.ipynb\" target=\"_parent\"><img src=\"https://colab.research.google.com/assets/colab-badge.svg\" alt=\"Open In Colab\"/></a>"
      ]
    },
    {
      "cell_type": "code",
      "execution_count": 1,
      "metadata": {
        "id": "vvsbbOdnwe6F",
        "colab": {
          "base_uri": "https://localhost:8080/"
        },
        "outputId": "679d9429-4355-43cd-d7dc-2714ffa9817d"
      },
      "outputs": [
        {
          "output_type": "stream",
          "name": "stdout",
          "text": [
            "Collecting langchain==0.0.340\n",
            "  Downloading langchain-0.0.340-py3-none-any.whl (2.0 MB)\n",
            "\u001b[2K     \u001b[90m━━━━━━━━━━━━━━━━━━━━━━━━━━━━━━━━━━━━━━━━\u001b[0m \u001b[32m2.0/2.0 MB\u001b[0m \u001b[31m9.1 MB/s\u001b[0m eta \u001b[36m0:00:00\u001b[0m\n",
            "\u001b[?25hRequirement already satisfied: PyYAML>=5.3 in /usr/local/lib/python3.10/dist-packages (from langchain==0.0.340) (6.0.1)\n",
            "Requirement already satisfied: SQLAlchemy<3,>=1.4 in /usr/local/lib/python3.10/dist-packages (from langchain==0.0.340) (2.0.23)\n",
            "Requirement already satisfied: aiohttp<4.0.0,>=3.8.3 in /usr/local/lib/python3.10/dist-packages (from langchain==0.0.340) (3.8.6)\n",
            "Requirement already satisfied: anyio<4.0 in /usr/local/lib/python3.10/dist-packages (from langchain==0.0.340) (3.7.1)\n",
            "Requirement already satisfied: async-timeout<5.0.0,>=4.0.0 in /usr/local/lib/python3.10/dist-packages (from langchain==0.0.340) (4.0.3)\n",
            "Collecting dataclasses-json<0.7,>=0.5.7 (from langchain==0.0.340)\n",
            "  Downloading dataclasses_json-0.6.2-py3-none-any.whl (28 kB)\n",
            "Collecting jsonpatch<2.0,>=1.33 (from langchain==0.0.340)\n",
            "  Downloading jsonpatch-1.33-py2.py3-none-any.whl (12 kB)\n",
            "Collecting langsmith<0.1.0,>=0.0.63 (from langchain==0.0.340)\n",
            "  Downloading langsmith-0.0.66-py3-none-any.whl (46 kB)\n",
            "\u001b[2K     \u001b[90m━━━━━━━━━━━━━━━━━━━━━━━━━━━━━━━━━━━━━━━━\u001b[0m \u001b[32m46.8/46.8 kB\u001b[0m \u001b[31m4.4 MB/s\u001b[0m eta \u001b[36m0:00:00\u001b[0m\n",
            "\u001b[?25hRequirement already satisfied: numpy<2,>=1 in /usr/local/lib/python3.10/dist-packages (from langchain==0.0.340) (1.23.5)\n",
            "Requirement already satisfied: pydantic<3,>=1 in /usr/local/lib/python3.10/dist-packages (from langchain==0.0.340) (1.10.13)\n",
            "Requirement already satisfied: requests<3,>=2 in /usr/local/lib/python3.10/dist-packages (from langchain==0.0.340) (2.31.0)\n",
            "Requirement already satisfied: tenacity<9.0.0,>=8.1.0 in /usr/local/lib/python3.10/dist-packages (from langchain==0.0.340) (8.2.3)\n",
            "Requirement already satisfied: attrs>=17.3.0 in /usr/local/lib/python3.10/dist-packages (from aiohttp<4.0.0,>=3.8.3->langchain==0.0.340) (23.1.0)\n",
            "Requirement already satisfied: charset-normalizer<4.0,>=2.0 in /usr/local/lib/python3.10/dist-packages (from aiohttp<4.0.0,>=3.8.3->langchain==0.0.340) (3.3.2)\n",
            "Requirement already satisfied: multidict<7.0,>=4.5 in /usr/local/lib/python3.10/dist-packages (from aiohttp<4.0.0,>=3.8.3->langchain==0.0.340) (6.0.4)\n",
            "Requirement already satisfied: yarl<2.0,>=1.0 in /usr/local/lib/python3.10/dist-packages (from aiohttp<4.0.0,>=3.8.3->langchain==0.0.340) (1.9.2)\n",
            "Requirement already satisfied: frozenlist>=1.1.1 in /usr/local/lib/python3.10/dist-packages (from aiohttp<4.0.0,>=3.8.3->langchain==0.0.340) (1.4.0)\n",
            "Requirement already satisfied: aiosignal>=1.1.2 in /usr/local/lib/python3.10/dist-packages (from aiohttp<4.0.0,>=3.8.3->langchain==0.0.340) (1.3.1)\n",
            "Requirement already satisfied: idna>=2.8 in /usr/local/lib/python3.10/dist-packages (from anyio<4.0->langchain==0.0.340) (3.4)\n",
            "Requirement already satisfied: sniffio>=1.1 in /usr/local/lib/python3.10/dist-packages (from anyio<4.0->langchain==0.0.340) (1.3.0)\n",
            "Requirement already satisfied: exceptiongroup in /usr/local/lib/python3.10/dist-packages (from anyio<4.0->langchain==0.0.340) (1.1.3)\n",
            "Collecting marshmallow<4.0.0,>=3.18.0 (from dataclasses-json<0.7,>=0.5.7->langchain==0.0.340)\n",
            "  Downloading marshmallow-3.20.1-py3-none-any.whl (49 kB)\n",
            "\u001b[2K     \u001b[90m━━━━━━━━━━━━━━━━━━━━━━━━━━━━━━━━━━━━━━━━\u001b[0m \u001b[32m49.4/49.4 kB\u001b[0m \u001b[31m4.5 MB/s\u001b[0m eta \u001b[36m0:00:00\u001b[0m\n",
            "\u001b[?25hCollecting typing-inspect<1,>=0.4.0 (from dataclasses-json<0.7,>=0.5.7->langchain==0.0.340)\n",
            "  Downloading typing_inspect-0.9.0-py3-none-any.whl (8.8 kB)\n",
            "Collecting jsonpointer>=1.9 (from jsonpatch<2.0,>=1.33->langchain==0.0.340)\n",
            "  Downloading jsonpointer-2.4-py2.py3-none-any.whl (7.8 kB)\n",
            "Requirement already satisfied: typing-extensions>=4.2.0 in /usr/local/lib/python3.10/dist-packages (from pydantic<3,>=1->langchain==0.0.340) (4.5.0)\n",
            "Requirement already satisfied: urllib3<3,>=1.21.1 in /usr/local/lib/python3.10/dist-packages (from requests<3,>=2->langchain==0.0.340) (2.0.7)\n",
            "Requirement already satisfied: certifi>=2017.4.17 in /usr/local/lib/python3.10/dist-packages (from requests<3,>=2->langchain==0.0.340) (2023.7.22)\n",
            "Requirement already satisfied: greenlet!=0.4.17 in /usr/local/lib/python3.10/dist-packages (from SQLAlchemy<3,>=1.4->langchain==0.0.340) (3.0.1)\n",
            "Requirement already satisfied: packaging>=17.0 in /usr/local/lib/python3.10/dist-packages (from marshmallow<4.0.0,>=3.18.0->dataclasses-json<0.7,>=0.5.7->langchain==0.0.340) (23.2)\n",
            "Collecting mypy-extensions>=0.3.0 (from typing-inspect<1,>=0.4.0->dataclasses-json<0.7,>=0.5.7->langchain==0.0.340)\n",
            "  Downloading mypy_extensions-1.0.0-py3-none-any.whl (4.7 kB)\n",
            "Installing collected packages: mypy-extensions, marshmallow, jsonpointer, typing-inspect, langsmith, jsonpatch, dataclasses-json, langchain\n",
            "Successfully installed dataclasses-json-0.6.2 jsonpatch-1.33 jsonpointer-2.4 langchain-0.0.340 langsmith-0.0.66 marshmallow-3.20.1 mypy-extensions-1.0.0 typing-inspect-0.9.0\n"
          ]
        }
      ],
      "source": [
        "! pip install langchain==0.0.340"
      ]
    },
    {
      "cell_type": "code",
      "source": [
        "! git clone https://github.com/langchain-ai/langchain.git"
      ],
      "metadata": {
        "colab": {
          "base_uri": "https://localhost:8080/"
        },
        "id": "gtOyeH58OMPo",
        "outputId": "6c48ac23-5bcf-4480-ab97-4b5317f0557c"
      },
      "execution_count": 2,
      "outputs": [
        {
          "output_type": "stream",
          "name": "stdout",
          "text": [
            "Cloning into 'langchain'...\n",
            "remote: Enumerating objects: 94023, done.\u001b[K\n",
            "remote: Counting objects: 100% (10042/10042), done.\u001b[K\n",
            "remote: Compressing objects: 100% (725/725), done.\u001b[K\n",
            "remote: Total 94023 (delta 9581), reused 9327 (delta 9317), pack-reused 83981\u001b[K\n",
            "Receiving objects: 100% (94023/94023), 135.59 MiB | 24.37 MiB/s, done.\n",
            "Resolving deltas: 100% (68244/68244), done.\n",
            "Updating files: 100% (4384/4384), done.\n"
          ]
        }
      ]
    },
    {
      "cell_type": "code",
      "source": [
        "with open(\"/content/langchain/docs/docs/modules/state_of_the_union.txt\") as f:\n",
        "    state_of_the_union = f.read()"
      ],
      "metadata": {
        "id": "82BRYg73OM4v"
      },
      "execution_count": 3,
      "outputs": []
    },
    {
      "cell_type": "code",
      "source": [
        "len(state_of_the_union)\n",
        "state_of_the_union_new = state_of_the_union*10"
      ],
      "metadata": {
        "id": "nqR1WcWdQvog"
      },
      "execution_count": 11,
      "outputs": []
    },
    {
      "cell_type": "code",
      "source": [
        "len(state_of_the_union_new)/(5*30)"
      ],
      "metadata": {
        "id": "lLWjB6SOQ2Ho",
        "outputId": "4c5cbb75-fbd7-4cd0-c6b8-fc452722bddc",
        "colab": {
          "base_uri": "https://localhost:8080/"
        }
      },
      "execution_count": 14,
      "outputs": [
        {
          "output_type": "execute_result",
          "data": {
            "text/plain": [
              "2569.3333333333335"
            ]
          },
          "metadata": {},
          "execution_count": 14
        }
      ]
    },
    {
      "cell_type": "code",
      "source": [
        "from langchain.llms import GooglePalm\n",
        "from langchain.chat_models import ChatGooglePalm\n",
        "from langchain.chains import AnalyzeDocumentChain\n",
        "from langchain.chains.question_answering import load_qa_chain\n",
        "import os\n",
        "\n"
      ],
      "metadata": {
        "id": "KoGpDwV1OW0u"
      },
      "execution_count": 4,
      "outputs": []
    },
    {
      "cell_type": "code",
      "source": [
        "GOOGLE_API_KEY = \"\"\n",
        "\n",
        "# llm = ChatGooglePalm(google_api_key=GOOGLE_API_KEY, temperature=0.7)\n",
        "llm = ChatGooglePalm(model=\"models/chat-bison-001\", temperature=0, google_api_key=GOOGLE_API_KEY)"
      ],
      "metadata": {
        "id": "EZuC9E5-OXr9"
      },
      "execution_count": 5,
      "outputs": []
    },
    {
      "cell_type": "code",
      "source": [
        "qa_chain = load_qa_chain(llm, chain_type=\"map_reduce\")"
      ],
      "metadata": {
        "id": "SsS0W9-bOu9p"
      },
      "execution_count": 6,
      "outputs": []
    },
    {
      "cell_type": "code",
      "source": [
        "qa_document_chain = AnalyzeDocumentChain(combine_docs_chain=qa_chain)"
      ],
      "metadata": {
        "id": "hG6YGPjSOxtm"
      },
      "execution_count": 7,
      "outputs": []
    },
    {
      "cell_type": "code",
      "source": [
        "%%time\n",
        "qa_document_chain.run(\n",
        "    input_document=state_of_the_union_new,\n",
        "    question=\"what did the president say about justice breyer?\",\n",
        ")"
      ],
      "metadata": {
        "colab": {
          "base_uri": "https://localhost:8080/",
          "height": 140
        },
        "id": "or8PdDlfO0L8",
        "outputId": "e0c4026c-a816-4daf-9837-566b8f7918cf"
      },
      "execution_count": 15,
      "outputs": [
        {
          "output_type": "stream",
          "name": "stdout",
          "text": [
            "CPU times: user 4.45 s, sys: 571 ms, total: 5.02 s\n",
            "Wall time: 7min 56s\n"
          ]
        },
        {
          "output_type": "execute_result",
          "data": {
            "text/plain": [
              "'President Joe Biden spoke about Justice Stephen Breyer in his State of the Union address on January 19, 2023. He said:\\n\\n\"Tonight, I\\'d like to honor someone who has dedicated his life to serve this country: Justice Stephen Breyer—an Army veteran, Constitutional scholar, and retiring Justice of the United States Supreme Court. Justice Breyer, thank you for your service.\"\\n\\nBiden also spoke about his nominee to replace Breyer, Judge Ketanji Brown Jackson. He said:\\n\\n\"One of the most serious constitutional responsibilities a President has is nominating someone to serve on the United States Supreme Court. And I did that 4 days ago, when I nominated Circuit Court of Appeals Judge Ketanji Brown Jackson. One of our nation\\'s top legal minds, who will continue Justice Breyer\\'s legacy of excellence. A former top litigator in private practice. A former federal public defender. And from a family of public school educators and police officers. A consensus builder. Since she\\'s been nominated, she\\'s received a broad range of support—from the Fraternal Order of Police to former judges appointed by Democrats and Republicans.\"\\n\\nBiden praised Breyer as a \"model of integrity, decency, and wisdom\" and said that he will be \"deeply missed.\"\\n\\nBiden also announced that he will nominate Ketanji Brown Jackson to replace Breyer. Jackson is a federal judge on the U.S. Court of Appeals for the D.C. Circuit. She would be the first Black woman to serve on the Supreme Court.\\n\\nIn his announcement, Biden said that he had \"the highest confidence\" in Jackson\\'s ability to serve on the Supreme Court. He said that she is \"a brilliant jurist with a deep understanding of the law\" and that she is \"fair, impartial, and independent.\"\\n\\nBiden also said that Jackson is \"a consensus builder\" who has \"a deep commitment to the rule of law.\" He said that she is \"someone who will uphold the Constitution and the values that make our nation great.\"\\n\\nJackson\\'s nomination is likely to face a tough confirmation battle in the Senate. Republicans have already signaled that they will oppose her nomination. However, Biden said that he is confident that Jackson will be confirmed and that she will \"serve with distinction\" on the Supreme Court.\\n\\nBiden also praised Breyer\\'s commitment to justice and his work on behalf of the American people. He said that Breyer\\'s retirement will create an opportunity for the Senate to confirm a new justice who will uphold the Constitution and protect the rights of all Americans. He urged the Senate to act quickly to confirm a new justice, saying that the American people deserve a full and fair process.\\n\\nBreyer, who is 83 years old, has served on the Supreme Court since 1994. He is the oldest member of the court and the second-longest-serving justice. He announced his retirement in January, saying that he wanted to give President Biden time to nominate a successor.\\n\\nBiden has said that he will nominate a Black woman to replace Breyer. He has said that he will consider a number of candidates, including Ketanji Brown Jackson, who is currently a judge on the U.S. Court of Appeals for the D.C. Circuit.\\n\\nThe confirmation process for Breyer\\'s successor is likely to be contentious. Republicans have said that they will not confirm any nominee who they believe will overturn Roe v. Wade, the landmark 1973 decision that legalized abortion nationwide.\\n\\nBiden has said that he will not nominate anyone who would overturn Roe v. Wade. He has also said that he will not nominate anyone who would not uphold the Constitution and protect the rights of all Americans.\\n\\nThe confirmation process is likely to be closely watched by the American people. The Supreme Court is one of the most powerful institutions in the United States, and its decisions have a profound impact on the lives of all Americans.'"
            ],
            "application/vnd.google.colaboratory.intrinsic+json": {
              "type": "string"
            }
          },
          "metadata": {},
          "execution_count": 15
        }
      ]
    },
    {
      "cell_type": "code",
      "source": [],
      "metadata": {
        "id": "sH8dvuOLO185"
      },
      "execution_count": null,
      "outputs": []
    }
  ]
}